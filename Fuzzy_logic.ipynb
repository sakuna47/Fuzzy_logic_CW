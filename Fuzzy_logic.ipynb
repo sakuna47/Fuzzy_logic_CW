{
  "nbformat": 4,
  "nbformat_minor": 0,
  "metadata": {
    "colab": {
      "provenance": [],
      "authorship_tag": "ABX9TyO2y24N9UwCWJNs2NBqeUUn",
      "include_colab_link": true
    },
    "kernelspec": {
      "name": "python3",
      "display_name": "Python 3"
    },
    "language_info": {
      "name": "python"
    }
  },
  "cells": [
    {
      "cell_type": "markdown",
      "metadata": {
        "id": "view-in-github",
        "colab_type": "text"
      },
      "source": [
        "<a href=\"https://colab.research.google.com/github/sakuna47/Fuzzy_logic_CW/blob/Fuzzy_code/Fuzzy_logic.ipynb\" target=\"_parent\"><img src=\"https://colab.research.google.com/assets/colab-badge.svg\" alt=\"Open In Colab\"/></a>"
      ]
    },
    {
      "cell_type": "code",
      "execution_count": 1,
      "metadata": {
        "colab": {
          "base_uri": "https://localhost:8080/"
        },
        "id": "9r2C7yLOHy_t",
        "outputId": "964cca44-8b9a-4233-fa00-81fc25822e0f"
      },
      "outputs": [
        {
          "output_type": "stream",
          "name": "stdout",
          "text": [
            "\u001b[?25l   \u001b[90m━━━━━━━━━━━━━━━━━━━━━━━━━━━━━━━━━━━━━━━━\u001b[0m \u001b[32m0.0/920.8 kB\u001b[0m \u001b[31m?\u001b[0m eta \u001b[36m-:--:--\u001b[0m\r\u001b[2K   \u001b[91m━━━━━━━━━━━\u001b[0m\u001b[91m╸\u001b[0m\u001b[90m━━━━━━━━━━━━━━━━━━━━━━━━━━━━\u001b[0m \u001b[32m266.2/920.8 kB\u001b[0m \u001b[31m7.1 MB/s\u001b[0m eta \u001b[36m0:00:01\u001b[0m\r\u001b[2K   \u001b[91m━━━━━━━━━━━━━━━━━━━━━━━━━━━━━━━━━━━━━━━\u001b[0m\u001b[91m╸\u001b[0m \u001b[32m911.4/920.8 kB\u001b[0m \u001b[31m15.3 MB/s\u001b[0m eta \u001b[36m0:00:01\u001b[0m\r\u001b[2K   \u001b[90m━━━━━━━━━━━━━━━━━━━━━━━━━━━━━━━━━━━━━━━━\u001b[0m \u001b[32m920.8/920.8 kB\u001b[0m \u001b[31m8.4 MB/s\u001b[0m eta \u001b[36m0:00:00\u001b[0m\n",
            "\u001b[?25h"
          ]
        }
      ],
      "source": [
        "!pip install -q scikit-fuzzy\n",
        "import numpy as np\n",
        "import skfuzzy as fuzz\n",
        "from skfuzzy import control as ctrl\n",
        "import matplotlib.pyplot as plt"
      ]
    },
    {
      "cell_type": "code",
      "source": [
        "# Define fuzzy variables\n",
        "voltage_dev = ctrl.Antecedent(np.arange(0, 21, 1), 'Voltage Deviation (%)')\n",
        "freq_var = ctrl.Antecedent(np.arange(0, 0.51, 0.01), 'Frequency Variation (Hz)')\n",
        "load_imb = ctrl.Antecedent(np.arange(0, 31, 1), 'Load Imbalance (%)')\n",
        "phase_mis = ctrl.Antecedent(np.arange(0, 31, 1), 'Phase Mismatch (degrees)')\n",
        "severity = ctrl.Consequent(np.arange(0, 101, 1), 'Anomaly Severity')\n"
      ],
      "metadata": {
        "id": "C3u9MdmwJdXp"
      },
      "execution_count": 2,
      "outputs": []
    },
    {
      "cell_type": "code",
      "source": [
        "# Define membership functions\n",
        "voltage_dev['Low'] = fuzz.trimf(voltage_dev.universe, [0, 2.5, 5])\n",
        "voltage_dev['Medium'] = fuzz.trimf(voltage_dev.universe, [3, 6.5, 10])\n",
        "voltage_dev['High'] = fuzz.trimf(voltage_dev.universe, [8, 14, 20])\n",
        "\n",
        "freq_var['Stable'] = fuzz.trimf(freq_var.universe, [0, 0.1, 0.2])\n",
        "freq_var['Unstable'] = fuzz.trimf(freq_var.universe, [0.15, 0.325, 0.5])\n",
        "\n",
        "load_imb['Balanced'] = fuzz.trimf(load_imb.universe, [0, 5, 10])\n",
        "load_imb['Unbalanced'] = fuzz.trimf(load_imb.universe, [8, 19, 30])\n",
        "\n",
        "phase_mis['Small'] = fuzz.trimf(phase_mis.universe, [0, 5, 10])\n",
        "phase_mis['Large'] = fuzz.trimf(phase_mis.universe, [8, 19, 30])\n",
        "\n",
        "severity['Low'] = fuzz.trimf(severity.universe, [0, 20, 40])\n",
        "severity['Medium'] = fuzz.trimf(severity.universe, [30, 50, 70])\n",
        "severity['High'] = fuzz.trimf(severity.universe, [60, 80, 100])"
      ],
      "metadata": {
        "id": "wm-BpjkMJsLG"
      },
      "execution_count": 3,
      "outputs": []
    },
    {
      "cell_type": "code",
      "source": [
        "# Define fuzzy rules\n",
        "rule1 = ctrl.Rule(voltage_dev['High'] & freq_var['Unstable'] & load_imb['Unbalanced'] & phase_mis['Large'], severity['High'])\n",
        "rule2 = ctrl.Rule(voltage_dev['Low'] & freq_var['Stable'] & load_imb['Balanced'] & phase_mis['Small'], severity['Low'])\n",
        "rule3 = ctrl.Rule(voltage_dev['Medium'] & freq_var['Stable'] & load_imb['Unbalanced'] & phase_mis['Small'], severity['Medium'])\n",
        "rule4 = ctrl.Rule(voltage_dev['Low'] & freq_var['Stable'] & load_imb['Unbalanced'] & phase_mis['Small'], severity['Low'])\n",
        "rule5 = ctrl.Rule(voltage_dev['High'] & freq_var['Unstable'] & load_imb['Balanced'] & phase_mis['Large'], severity['High'])\n",
        "rule6 = ctrl.Rule(voltage_dev['Medium'] & freq_var['Unstable'] & load_imb['Balanced'] & phase_mis['Small'], severity['Medium'])\n",
        "rule7 = ctrl.Rule(voltage_dev['Low'] & freq_var['Unstable'] & load_imb['Balanced'] & phase_mis['Large'], severity['Medium'])\n",
        "rule8 = ctrl.Rule(voltage_dev['High'] & freq_var['Stable'] & load_imb['Balanced'] & phase_mis['Small'], severity['Medium'])\n",
        "rule9 = ctrl.Rule(voltage_dev['Medium'] & freq_var['Stable'] & load_imb['Balanced'] & phase_mis['Small'], severity['Low'])\n",
        "rule10 = ctrl.Rule(voltage_dev['Low'] & freq_var['Unstable'] & load_imb['Unbalanced'] & phase_mis['Large'], severity['Medium'])\n",
        "rule11 = ctrl.Rule(voltage_dev['High'] & freq_var['Stable'] & load_imb['Unbalanced'] & phase_mis['Large'], severity['High'])\n",
        "rule12 = ctrl.Rule(voltage_dev['Medium'] & freq_var['Unstable'] & load_imb['Unbalanced'] & phase_mis['Large'], severity['High'])\n",
        "rule13 = ctrl.Rule(voltage_dev['High'] & phase_mis['Large'], severity['High'])  # New rule for phase mismatch"
      ],
      "metadata": {
        "id": "LkX076tBJyf-"
      },
      "execution_count": 4,
      "outputs": []
    },
    {
      "cell_type": "code",
      "source": [
        "# Create control system\n",
        "anomaly_ctrl = ctrl.ControlSystem([rule1, rule2, rule3, rule4, rule5, rule6, rule7, rule8, rule9, rule10, rule11, rule12, rule13])\n",
        "anomaly_sim = ctrl.ControlSystemSimulation(anomaly_ctrl)\n",
        "\n",
        "# Function to simulate and evaluate anomaly\n",
        "def evaluate_anomaly(volt_dev, freq_dev, load_dev, phase_dev):\n",
        "    if not (0 <= volt_dev <= 20 and 0 <= freq_dev <= 0.5 and 0 <= load_dev <= 30 and 0 <= phase_dev <= 30):\n",
        "        raise ValueError(\"Input values out of defined ranges\")\n",
        "    anomaly_sim.input['Voltage Deviation (%)'] = volt_dev\n",
        "    anomaly_sim.input['Frequency Variation (Hz)'] = freq_dev\n",
        "    anomaly_sim.input['Load Imbalance (%)'] = load_dev\n",
        "    anomaly_sim.input['Phase Mismatch (degrees)'] = phase_dev\n",
        "    anomaly_sim.compute()\n",
        "    severity_score = anomaly_sim.output['Anomaly Severity']\n",
        "\n",
        "    # Determine mitigation action\n",
        "    if severity_score > 60:\n",
        "        action = \"Isolate faulty section\"\n",
        "    elif severity_score > 30:\n",
        "        action = \"Balance loads dynamically\"\n",
        "    else:\n",
        "        action = \"Monitor without action\"\n",
        "\n",
        "    return severity_score, action"
      ],
      "metadata": {
        "id": "GW4akOe8KAgn"
      },
      "execution_count": 10,
      "outputs": []
    },
    {
      "cell_type": "code",
      "source": [
        "\n",
        "# Test cases\n",
        "test_cases = [\n",
        "    (2, 0.1, 5, 5),     # Normal operation\n",
        "    (12, 0.4, 20, 20),  # Severe anomaly with phase shift\n",
        "    (6, 0.2, 15, 8),    # Moderate anomaly\n",
        "    (8, 0.3, 10, 15),   # Moderate anomaly with phase shift\n",
        "    (20, 0.5, 30, 25),  # Extreme anomaly with phase shift\n",
        "    (15, 0.2, 5, 20),   # Phase-specific anomaly\n",
        "]"
      ],
      "metadata": {
        "id": "-Lx6eXtXKcSr"
      },
      "execution_count": 11,
      "outputs": []
    }
  ]
}